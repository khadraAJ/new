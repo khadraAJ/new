{
 "cells": [
  {
   "cell_type": "code",
   "execution_count": 1,
   "metadata": {},
   "outputs": [
    {
     "name": "stdout",
     "output_type": "stream",
     "text": [
      "2022\n",
      "bonjour ! kha\n",
      "bonne journée\n"
     ]
    }
   ],
   "source": [
    "a = \"2022\"\n",
    "print(a)\n",
    "name = 'kha'\n",
    "print(\"bonjour !\", name)\n",
    "bon = \"bonne journée\"\n",
    "print(bon)"
   ]
  }
 ],
 "metadata": {
  "kernelspec": {
   "display_name": "Python 3.8.3 ('base')",
   "language": "python",
   "name": "python3"
  },
  "language_info": {
   "codemirror_mode": {
    "name": "ipython",
    "version": 3
   },
   "file_extension": ".py",
   "mimetype": "text/x-python",
   "name": "python",
   "nbconvert_exporter": "python",
   "pygments_lexer": "ipython3",
   "version": "3.8.3"
  },
  "orig_nbformat": 4,
  "vscode": {
   "interpreter": {
    "hash": "eced9d339db251902e5ab9416200fc4c3cc83bdab0abf2742204203ab6316ecc"
   }
  }
 },
 "nbformat": 4,
 "nbformat_minor": 2
}
